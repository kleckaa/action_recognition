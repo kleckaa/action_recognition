{
 "cells": [
  {
   "cell_type": "code",
   "execution_count": 1,
   "id": "dress-setting",
   "metadata": {},
   "outputs": [],
   "source": [
    "import json\n",
    "from pytube import YouTube, Playlist\n",
    "#from moviepy.editor import *\n",
    "import pickle\n",
    "import time\n",
    "import os\n",
    "\n",
    "from pytube.exceptions import VideoUnavailable, VideoPrivate, MaxRetriesExceeded\n",
    "from urllib.error import URLError\n",
    "import matplotlib.pyplot as plt\n",
    "import pickle"
   ]
  },
  {
   "cell_type": "code",
   "execution_count": 2,
   "id": "continuous-sculpture",
   "metadata": {},
   "outputs": [],
   "source": [
    "def analysis_data(data):\n",
    "\n",
    "    link_first = 'http://youtube.com/watch?v='\n",
    "    data_list = dict()\n",
    "\n",
    "    private = 0\n",
    "    urlr = 0\n",
    "    unaviabl = 0\n",
    "\n",
    "    for i in range(0,len(data)): \n",
    "\n",
    "        #print(len(data)-i)\n",
    "\n",
    "        ind = list(data.keys())[i]\n",
    "#        yt_link = data[ind]['url']\n",
    "        #duration = int(data[ind]['duration'])\n",
    "        #start = int(data[ind]['annotations']['segment'][0])\n",
    "        #end = int(data[ind]['annotations']['segment'][1])\n",
    "        label = data[ind]['annotations']['label']\n",
    "#        name_vid = 'vid' + str(i)\n",
    "\n",
    "        #print(yt_link+'?t='+str(start))\n",
    "\n",
    "#        try:\n",
    "#            yt = YouTube(yt_link)\n",
    "#            yt.check_availability()\n",
    "#        except VideoUnavailable:\n",
    "#            unaviabl = unaviabl +1\n",
    "#            pass  # Skip videos that can't be loaded\n",
    "#        except VideoPrivate:\n",
    "#            private = private + 1\n",
    "#            pass\n",
    "#        except URLError:\n",
    "#            urlr = urlr + 1\n",
    "#            pass\n",
    "#        else:\n",
    "        if label in data_list:\n",
    "            data_list[label] = data_list[label] +1\n",
    "        else:\n",
    "            data_list[label] = 1\n",
    "\n",
    "    return data_list\n",
    "#print(private)\n",
    "#print(unaviabl)\n",
    "#print(urlr)\n",
    "\n",
    "def combine_dicts (dictA,dictB):\n",
    "    for key in dictB:\n",
    "        if key in dictA:\n",
    "            dictB[key] = dictB[key] + dictA[key]\n",
    "        else:\n",
    "            pass\n",
    "    e = {**dictA, **dictB}\n",
    "    return e\n",
    "\n",
    "def num_dict (dictA):\n",
    "    sum = 0\n",
    "    for key in dictA:\n",
    "        sum = sum + dictA[key]\n",
    "    return sum"
   ]
  },
  {
   "cell_type": "code",
   "execution_count": 3,
   "id": "governmental-synthetic",
   "metadata": {},
   "outputs": [],
   "source": [
    "#Trenovaci mnozina dat\n",
    "path = 'kinetics400/train.json'\n",
    "f = open('kinetics400/train.json')\n",
    "data = json.load(f)\n",
    "\n",
    "data_list_train= analysis_data(data)\n",
    "\n",
    "#print(data_list_train)\n",
    "\n",
    "#with open('train.pickle', 'wb') as handle:\n",
    "#    pickle.dump(data_list_train, handle, protocol=pickle.HIGHEST_PROTOCOL)\n",
    "\n",
    "#Validacni mnozina dat\n",
    "path = 'kinetics400/validate.json'\n",
    "f = open('kinetics400/validate.json')\n",
    "data = json.load(f)\n",
    "\n",
    "data_list_validate= analysis_data(data)\n",
    "#print(str(private_validate) + ' ' + str(urlr_validate) + ' ' + str(unaviabl_validate))\n",
    "\n",
    "#with open('validate.pickle', 'wb') as handle:\n",
    "#    pickle.dump(data_list_validate, handle, protocol=pickle.HIGHEST_PROTOCOL)\n",
    "\n",
    "#Testovaci mnozina dat\n",
    "path = 'kinetics400/test.json'\n",
    "f = open('kinetics400/test.json')\n",
    "data = json.load(f)\n",
    "\n",
    "data_list_test = analysis_data(data)\n",
    "#print(str(private_test) + ' ' + str(urlr_test) + ' ' + str(unaviabl_test))\n",
    "\n",
    "#with open('test.pickle', 'wb') as handle:\n",
    "#    pickle.dump(data_list_test, handle, protocol=pickle.HIGHEST_PROTOCOL)\n",
    "    \n",
    "    \n",
    "\n",
    "train_val = combine_dicts (data_list_train,data_list_validate)\n",
    "train_val_test = combine_dicts (train_val,data_list_test)\n",
    "\n"
   ]
  },
  {
   "cell_type": "code",
   "execution_count": 4,
   "id": "approximate-ancient",
   "metadata": {},
   "outputs": [
    {
     "name": "stdout",
     "output_type": "stream",
     "text": [
      "Trénovacích videí: 219782\n",
      "Validačních videí: 18035\n",
      "Testovacích videí: 35357\n"
     ]
    }
   ],
   "source": [
    "#print('Celkem dostupných videí: ' + str(num_dict(train_val_test)))\n",
    "#print('Počet nedostupných videí: '+ str(err))\n",
    "\n",
    "#print('-----')\n",
    "print('Trénovacích videí: '+str(num_dict(data_list_train)))\n",
    "print('Validačních videí: '+str(abs(num_dict(data_list_train)-num_dict(data_list_validate))))\n",
    "print('Testovacích videí: '+str(abs(num_dict(data_list_validate)-num_dict(data_list_test))))\n"
   ]
  },
  {
   "cell_type": "code",
   "execution_count": 8,
   "id": "minus-billion",
   "metadata": {},
   "outputs": [
    {
     "data": {
      "image/png": "[encoded data removed]",
      "text/plain": [
       "<Figure size 720x216 with 1 Axes>"
      ]
     },
     "metadata": {
      "needs_background": "light"
     },
     "output_type": "display_data"
    }
   ],
   "source": [
    "dict_m = sorted(train_val_test.items(), key=lambda x: x[1], reverse=True)\n",
    "\n",
    "#print(dict_m[1][1])\n",
    "\n",
    "numbers = []\n",
    "for i in range(0,len(dict_m)):\n",
    "    numbers.append(dict_m[i][1])\n",
    "\n",
    "#print(numbers)\n",
    "plt.plot(numbers, linewidth=3)\n",
    "plt.ylabel('Počet dat')\n",
    "plt.xlabel('Číslo třídy')\n",
    "\n",
    "plt.savefig('grr_2.jpg')\n",
    "plt.savefig('gr_22.eps')\n",
    "\n",
    "plt.show()\n",
    "\n",
    "#\n"
   ]
  },
  {
   "cell_type": "code",
   "execution_count": 6,
   "id": "described-veteran",
   "metadata": {},
   "outputs": [
    {
     "name": "stdout",
     "output_type": "stream",
     "text": [
      "snowkiting --> 1090\n",
      "blowing out candles --> 1089\n",
      "tobogganing --> 1089\n",
      "canoeing or kayaking --> 1085\n",
      "playing harp --> 1084\n"
     ]
    },
    {
     "data": {
      "image/png": "[encoded data removed]",
      "text/plain": [
       "<Figure size 432x288 with 1 Axes>"
      ]
     },
     "metadata": {
      "needs_background": "light"
     },
     "output_type": "display_data"
    }
   ],
   "source": [
    "names=[]\n",
    "size = 5\n",
    "for i in range(0,size):\n",
    "    names.append(dict_m[i][0])\n",
    "    plt.bar(i,dict_m[i][1],tick_label=dict_m[i][0])\n",
    "    print( dict_m[i][0] + ' --> ' + str(dict_m[i][1]))\n",
    "    \n",
    "plt.xticks(range(0,size),names)\n",
    "plt.savefig('train.png')\n",
    "plt.rcParams[\"figure.figsize\"] = (10,3)\n",
    "\n",
    "plt.savefig('grr_2.jpg')\n",
    "plt.savefig('gr_2.eps')\n",
    "\n",
    "plt.show()\n",
    "\n"
   ]
  },
  {
   "cell_type": "code",
   "execution_count": 7,
   "id": "registered-magnitude",
   "metadata": {},
   "outputs": [
    {
     "name": "stdout",
     "output_type": "stream",
     "text": [
      "sniffing --> 336\n",
      "cracking neck --> 334\n",
      "taking a shower --> 318\n",
      "shooting goal (soccer) --> 314\n",
      "clay pottery making --> 303\n"
     ]
    }
   ],
   "source": [
    "size = 5\n",
    "for i in range(len(dict_m)-size,len(dict_m)):\n",
    "    print( dict_m[i][0] + ' --> ' + str(dict_m[i][1]))"
   ]
  },
  {
   "cell_type": "code",
   "execution_count": null,
   "id": "liable-transcription",
   "metadata": {},
   "outputs": [],
   "source": []
  }
 ],
 "metadata": {
  "kernelspec": {
   "display_name": "Python 3",
   "language": "python",
   "name": "python3"
  },
  "language_info": {
   "codemirror_mode": {
    "name": "ipython",
    "version": 3
   },
   "file_extension": ".py",
   "mimetype": "text/x-python",
   "name": "python",
   "nbconvert_exporter": "python",
   "pygments_lexer": "ipython3",
   "version": "3.6.6"
  }
 },
 "nbformat": 4,
 "nbformat_minor": 5
}
